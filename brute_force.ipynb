{
 "cells": [
  {
   "cell_type": "code",
   "execution_count": 10,
   "metadata": {},
   "outputs": [],
   "source": [
    "import networkx as nx\n",
    "from matplotlib import pyplot as plt\n",
    "from itertools import combinations"
   ]
  },
  {
   "cell_type": "code",
   "execution_count": 14,
   "metadata": {},
   "outputs": [],
   "source": [
    "def brute_force(G, terminals):\n",
    "    best_tree = None\n",
    "    best_weight = float('inf')\n",
    "\n",
    "    all_nodes = set(G)\n",
    "    non_terminals = all_nodes - set(terminals)\n",
    "\n",
    "    for r in range(len(non_terminals) + 1):\n",
    "        for subset in combinations(non_terminals, r):\n",
    "            nodes = set(terminals) | set(subset)\n",
    "            subgraph = G.subgraph(nodes)\n",
    "\n",
    "            if nx.is_connected(subgraph):\n",
    "                T = nx.minimum_spanning_tree(subgraph, weight='weight')\n",
    "                w = T.size(weight = 'weight')\n",
    "                if w < best_weight:\n",
    "                    best_weight = w\n",
    "                    best_tree = T\n",
    "\n",
    "    return best_tree, best_weight"
   ]
  },
  {
   "cell_type": "code",
   "execution_count": 15,
   "metadata": {},
   "outputs": [],
   "source": [
    "G = nx.complete_graph(6)\n",
    "for u,v in G.edges():\n",
    "    G[u][v]['weight'] = 1\n",
    "\n",
    "terminals = {0,2,5}"
   ]
  },
  {
   "cell_type": "code",
   "execution_count": 17,
   "metadata": {},
   "outputs": [],
   "source": [
    "T, w = brute_force(G, terminals)"
   ]
  },
  {
   "cell_type": "code",
   "execution_count": 25,
   "metadata": {},
   "outputs": [
    {
     "data": {
      "image/png": "[encoded data removed]",
      "text/plain": [
       "<Figure size 600x600 with 1 Axes>"
      ]
     },
     "metadata": {},
     "output_type": "display_data"
    }
   ],
   "source": [
    "pos = nx.spring_layout(G)\n",
    "plt.figure(figsize=(6,6))\n",
    "nx.draw(T, pos, with_labels = True, node_color = 'blue')\n",
    "nx.draw_networkx_nodes(T, pos, nodelist=terminals, node_color='green')\n",
    "plt.title(\"Steiner tree brute force\")\n",
    "plt.show()"
   ]
  },
  {
   "cell_type": "code",
   "execution_count": null,
   "metadata": {},
   "outputs": [],
   "source": []
  }
 ],
 "metadata": {
  "kernelspec": {
   "display_name": "base",
   "language": "python",
   "name": "python3"
  },
  "language_info": {
   "codemirror_mode": {
    "name": "ipython",
    "version": 3
   },
   "file_extension": ".py",
   "mimetype": "text/x-python",
   "name": "python",
   "nbconvert_exporter": "python",
   "pygments_lexer": "ipython3",
   "version": "3.11.10"
  }
 },
 "nbformat": 4,
 "nbformat_minor": 2
}
